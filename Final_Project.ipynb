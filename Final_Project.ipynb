{
 "cells": [
  {
   "cell_type": "markdown",
   "id": "c6e99548-996d-4fd3-913e-42b44856b49b",
   "metadata": {},
   "source": [
    "# Final Project \n",
    "## IST 664 - Natural Language Processing\n",
    "## Sentiment Analysis of Movie Reviews"
   ]
  },
  {
   "cell_type": "markdown",
   "id": "1045c72d-9afe-41a3-add0-7c9bdc53192d",
   "metadata": {},
   "source": [
    "### Exploratory Data Analysis"
   ]
  },
  {
   "cell_type": "code",
   "execution_count": 5,
   "id": "f19bd226-2597-4458-975b-277d4b56a86a",
   "metadata": {},
   "outputs": [
    {
     "name": "stdout",
     "output_type": "stream",
     "text": [
      "        PhraseId  SentenceId  \\\n",
      "0              1           1   \n",
      "1              2           1   \n",
      "2              3           1   \n",
      "3              4           1   \n",
      "4              5           1   \n",
      "...          ...         ...   \n",
      "156055    156056        8544   \n",
      "156056    156057        8544   \n",
      "156057    156058        8544   \n",
      "156058    156059        8544   \n",
      "156059    156060        8544   \n",
      "\n",
      "                                                   Phrase  Sentiment  \n",
      "0       A series of escapades demonstrating the adage ...          1  \n",
      "1       A series of escapades demonstrating the adage ...          2  \n",
      "2                                                A series          2  \n",
      "3                                                       A          2  \n",
      "4                                                  series          2  \n",
      "...                                                   ...        ...  \n",
      "156055                                          Hearst 's          2  \n",
      "156056                          forced avuncular chortles          1  \n",
      "156057                                 avuncular chortles          3  \n",
      "156058                                          avuncular          2  \n",
      "156059                                           chortles          2  \n",
      "\n",
      "[156060 rows x 4 columns]\n"
     ]
    }
   ],
   "source": [
    "#Read the data\n",
    "import pandas as pd\n",
    "\n",
    "file = 'train.tsv'\n",
    "\n",
    "df = pd.read_csv(file, sep = '\\t', header = 0)\n",
    "print(df)"
   ]
  },
  {
   "cell_type": "code",
   "execution_count": 116,
   "id": "515fecb6-d04f-4676-af0c-7f3f4ce84edc",
   "metadata": {},
   "outputs": [
    {
     "data": {
      "text/plain": [
       "0"
      ]
     },
     "execution_count": 116,
     "metadata": {},
     "output_type": "execute_result"
    }
   ],
   "source": [
    "#Checking for null values in the target column\n",
    "df['Sentiment'].isnull().sum()"
   ]
  },
  {
   "cell_type": "code",
   "execution_count": 117,
   "id": "3796df7e-674a-46de-a5ca-2b9f8ce8a964",
   "metadata": {},
   "outputs": [
    {
     "data": {
      "text/plain": [
       "Sentiment\n",
       "2    79582\n",
       "3    32927\n",
       "1    27273\n",
       "4     9206\n",
       "0     7072\n",
       "Name: count, dtype: int64"
      ]
     },
     "execution_count": 117,
     "metadata": {},
     "output_type": "execute_result"
    }
   ],
   "source": [
    "#Count of different sentiments\n",
    "df['Sentiment'].value_counts()"
   ]
  },
  {
   "cell_type": "code",
   "execution_count": 119,
   "id": "ab801aac-c757-417c-85d7-3ed4e8bee5bf",
   "metadata": {},
   "outputs": [
    {
     "data": {
      "image/png": "[encoded data removed]",
      "text/plain": [
       "<Figure size 640x480 with 1 Axes>"
      ]
     },
     "metadata": {},
     "output_type": "display_data"
    }
   ],
   "source": [
    "#Visualization of count of Sentiments\n",
    "import matplotlib.pyplot as plt\n",
    "%matplotlib inline\n",
    "df['Sentiment'].value_counts().sort_index().plot(kind='bar', color= 'green')\n",
    "plt.ylabel('Sentiment Phrase Count')\n",
    "plt.xlabel('Sentiment')\n",
    "plt.title('Count of Sentiments');"
   ]
  },
  {
   "cell_type": "markdown",
   "id": "a2ea5cc3-31b6-4755-9690-d4ff415c8859",
   "metadata": {},
   "source": [
    "### Pre-processing of Data"
   ]
  },
  {
   "cell_type": "code",
   "execution_count": 6,
   "id": "426bfc78-7e44-4c67-a920-332c344ed1c3",
   "metadata": {},
   "outputs": [],
   "source": [
    "#Load the libraries \n",
    "import nltk\n",
    "from nltk.tokenize import word_tokenize\n",
    "from nltk.corpus import stopwords"
   ]
  },
  {
   "cell_type": "code",
   "execution_count": 40,
   "id": "45a0e2f5-c419-4701-9cc2-1015f2e45adb",
   "metadata": {},
   "outputs": [],
   "source": [
    "#Create a function to tokenize and keep only alphabetical words\n",
    "def tokenize(text):\n",
    "    tokens = [token.lower() for token in word_tokenize(text) if token.isalpha()]\n",
    "    tokenized_text = ' '.join(tokens)\n",
    "    return tokenized_text"
   ]
  },
  {
   "cell_type": "code",
   "execution_count": 42,
   "id": "052c26c0-f5f7-49e2-8cb2-7d482381e81f",
   "metadata": {},
   "outputs": [],
   "source": [
    "#create a function to remove stop words\n",
    "stop_words = stopwords.words('english')\n",
    "stop_words.remove('not') #removing not from the stop_words list as it contains value in negative movie reviews\n",
    "def remove_stop(text):\n",
    "    tokens = word_tokenize(text)\n",
    "    tokens = [word for word in tokens if word.isalpha() and word not in stop_words]\n",
    "    stop_text = ' '.join(tokens)\n",
    "    return stop_text"
   ]
  },
  {
   "cell_type": "code",
   "execution_count": 45,
   "id": "2634e170-d97c-4214-89c4-08031e159a1e",
   "metadata": {},
   "outputs": [],
   "source": [
    "#Create a function for lemmatization\n",
    "#nltk.download('wordnet')\n",
    "from nltk.stem import WordNetLemmatizer\n",
    "\n",
    "def wordnet_lemmatization(text):\n",
    "    lemmatizer = WordNetLemmatizer()\n",
    "    tokens = word_tokenize(text)\n",
    "    lemmatized_tokens = [lemmatizer.lemmatize(token) for token in tokens if token.isalpha and token not in stop_words]\n",
    "    lemmatized_text = ' '.join(lemmatized_tokens)\n",
    "    return lemmatized_text"
   ]
  },
  {
   "cell_type": "code",
   "execution_count": 50,
   "id": "2783478c-b7f1-42a5-8c7c-1f9325bc5eb4",
   "metadata": {},
   "outputs": [
    {
     "data": {
      "text/html": [
       "<div>\n",
       "<style scoped>\n",
       "    .dataframe tbody tr th:only-of-type {\n",
       "        vertical-align: middle;\n",
       "    }\n",
       "\n",
       "    .dataframe tbody tr th {\n",
       "        vertical-align: top;\n",
       "    }\n",
       "\n",
       "    .dataframe thead th {\n",
       "        text-align: right;\n",
       "    }\n",
       "</style>\n",
       "<table border=\"1\" class=\"dataframe\">\n",
       "  <thead>\n",
       "    <tr style=\"text-align: right;\">\n",
       "      <th></th>\n",
       "      <th>PhraseId</th>\n",
       "      <th>SentenceId</th>\n",
       "      <th>Phrase</th>\n",
       "      <th>Sentiment</th>\n",
       "      <th>tokenized_text</th>\n",
       "      <th>stop_text</th>\n",
       "      <th>lemmatized_text</th>\n",
       "    </tr>\n",
       "  </thead>\n",
       "  <tbody>\n",
       "    <tr>\n",
       "      <th>0</th>\n",
       "      <td>1</td>\n",
       "      <td>1</td>\n",
       "      <td>a series of escapades demonstrating the adage ...</td>\n",
       "      <td>1</td>\n",
       "      <td>a series of escapades demonstrating the adage ...</td>\n",
       "      <td>series escapades demonstrating adage good goos...</td>\n",
       "      <td>series escapade demonstrating adage good goose...</td>\n",
       "    </tr>\n",
       "    <tr>\n",
       "      <th>1</th>\n",
       "      <td>2</td>\n",
       "      <td>1</td>\n",
       "      <td>a series of escapades demonstrating the adage ...</td>\n",
       "      <td>2</td>\n",
       "      <td>a series of escapades demonstrating the adage ...</td>\n",
       "      <td>series escapades demonstrating adage good goose</td>\n",
       "      <td>series escapade demonstrating adage good goose</td>\n",
       "    </tr>\n",
       "    <tr>\n",
       "      <th>2</th>\n",
       "      <td>3</td>\n",
       "      <td>1</td>\n",
       "      <td>a series</td>\n",
       "      <td>2</td>\n",
       "      <td>a series</td>\n",
       "      <td>series</td>\n",
       "      <td>series</td>\n",
       "    </tr>\n",
       "    <tr>\n",
       "      <th>3</th>\n",
       "      <td>4</td>\n",
       "      <td>1</td>\n",
       "      <td>a</td>\n",
       "      <td>2</td>\n",
       "      <td>a</td>\n",
       "      <td></td>\n",
       "      <td></td>\n",
       "    </tr>\n",
       "    <tr>\n",
       "      <th>4</th>\n",
       "      <td>5</td>\n",
       "      <td>1</td>\n",
       "      <td>series</td>\n",
       "      <td>2</td>\n",
       "      <td>series</td>\n",
       "      <td>series</td>\n",
       "      <td>series</td>\n",
       "    </tr>\n",
       "    <tr>\n",
       "      <th>5</th>\n",
       "      <td>6</td>\n",
       "      <td>1</td>\n",
       "      <td>of escapades demonstrating the adage that what...</td>\n",
       "      <td>2</td>\n",
       "      <td>of escapades demonstrating the adage that what...</td>\n",
       "      <td>escapades demonstrating adage good goose</td>\n",
       "      <td>escapade demonstrating adage good goose</td>\n",
       "    </tr>\n",
       "    <tr>\n",
       "      <th>6</th>\n",
       "      <td>7</td>\n",
       "      <td>1</td>\n",
       "      <td>of</td>\n",
       "      <td>2</td>\n",
       "      <td>of</td>\n",
       "      <td></td>\n",
       "      <td></td>\n",
       "    </tr>\n",
       "    <tr>\n",
       "      <th>7</th>\n",
       "      <td>8</td>\n",
       "      <td>1</td>\n",
       "      <td>escapades demonstrating the adage that what is...</td>\n",
       "      <td>2</td>\n",
       "      <td>escapades demonstrating the adage that what is...</td>\n",
       "      <td>escapades demonstrating adage good goose</td>\n",
       "      <td>escapade demonstrating adage good goose</td>\n",
       "    </tr>\n",
       "    <tr>\n",
       "      <th>8</th>\n",
       "      <td>9</td>\n",
       "      <td>1</td>\n",
       "      <td>escapades</td>\n",
       "      <td>2</td>\n",
       "      <td>escapades</td>\n",
       "      <td>escapades</td>\n",
       "      <td>escapade</td>\n",
       "    </tr>\n",
       "    <tr>\n",
       "      <th>9</th>\n",
       "      <td>10</td>\n",
       "      <td>1</td>\n",
       "      <td>demonstrating the adage that what is good for ...</td>\n",
       "      <td>2</td>\n",
       "      <td>demonstrating the adage that what is good for ...</td>\n",
       "      <td>demonstrating adage good goose</td>\n",
       "      <td>demonstrating adage good goose</td>\n",
       "    </tr>\n",
       "  </tbody>\n",
       "</table>\n",
       "</div>"
      ],
      "text/plain": [
       "   PhraseId  SentenceId                                             Phrase  \\\n",
       "0         1           1  a series of escapades demonstrating the adage ...   \n",
       "1         2           1  a series of escapades demonstrating the adage ...   \n",
       "2         3           1                                           a series   \n",
       "3         4           1                                                  a   \n",
       "4         5           1                                             series   \n",
       "5         6           1  of escapades demonstrating the adage that what...   \n",
       "6         7           1                                                 of   \n",
       "7         8           1  escapades demonstrating the adage that what is...   \n",
       "8         9           1                                          escapades   \n",
       "9        10           1  demonstrating the adage that what is good for ...   \n",
       "\n",
       "   Sentiment                                     tokenized_text  \\\n",
       "0          1  a series of escapades demonstrating the adage ...   \n",
       "1          2  a series of escapades demonstrating the adage ...   \n",
       "2          2                                           a series   \n",
       "3          2                                                  a   \n",
       "4          2                                             series   \n",
       "5          2  of escapades demonstrating the adage that what...   \n",
       "6          2                                                 of   \n",
       "7          2  escapades demonstrating the adage that what is...   \n",
       "8          2                                          escapades   \n",
       "9          2  demonstrating the adage that what is good for ...   \n",
       "\n",
       "                                           stop_text  \\\n",
       "0  series escapades demonstrating adage good goos...   \n",
       "1    series escapades demonstrating adage good goose   \n",
       "2                                             series   \n",
       "3                                                      \n",
       "4                                             series   \n",
       "5           escapades demonstrating adage good goose   \n",
       "6                                                      \n",
       "7           escapades demonstrating adage good goose   \n",
       "8                                          escapades   \n",
       "9                     demonstrating adage good goose   \n",
       "\n",
       "                                     lemmatized_text  \n",
       "0  series escapade demonstrating adage good goose...  \n",
       "1     series escapade demonstrating adage good goose  \n",
       "2                                             series  \n",
       "3                                                     \n",
       "4                                             series  \n",
       "5            escapade demonstrating adage good goose  \n",
       "6                                                     \n",
       "7            escapade demonstrating adage good goose  \n",
       "8                                           escapade  \n",
       "9                     demonstrating adage good goose  "
      ]
     },
     "execution_count": 50,
     "metadata": {},
     "output_type": "execute_result"
    }
   ],
   "source": [
    "#Create new columns for three different pre-processed texts\n",
    "df['tokenized_text'] = df['Phrase'].apply(lambda Phrase: tokenize(Phrase))\n",
    "df['stop_text'] = df['Phrase'].apply(lambda Phrase: remove_stop(Phrase))\n",
    "df['lemmatized_text'] = df['Phrase'].apply(lambda Phrase: wordnet_lemmatization(Phrase))\n",
    "df.head(10)"
   ]
  },
  {
   "cell_type": "markdown",
   "id": "d0015875-5104-44ba-a340-1f430989b603",
   "metadata": {},
   "source": [
    "### Model Generation"
   ]
  },
  {
   "cell_type": "code",
   "execution_count": 56,
   "id": "08d8e3d5-3b49-48b6-ae5c-40a6f631e2e0",
   "metadata": {},
   "outputs": [],
   "source": [
    "#Create a function to extract bag-of-words features\n",
    "from nltk.probability import FreqDist\n",
    "def bag_of_words_features(tokens, top_words):\n",
    "    freq_dist = FreqDist(tokens)\n",
    "    top_words = [word for word, _ in freq_dist.most_common(top_words)]\n",
    "    features = {word: (word in tokens) for word in top_words}\n",
    "    return features"
   ]
  },
  {
   "cell_type": "code",
   "execution_count": 54,
   "id": "4f0ccaf8-b1dc-44e7-adad-ca242a5d7aae",
   "metadata": {},
   "outputs": [],
   "source": [
    "#Split the data into training and testing sets\n",
    "from sklearn.model_selection import train_test_split\n",
    "train_data, test_data = train_test_split(df, test_size=0.3, random_state = 7)"
   ]
  },
  {
   "cell_type": "markdown",
   "id": "c8872da0-dd7c-4b0a-a94d-8c2743f71ca4",
   "metadata": {},
   "source": [
    "### Generating Model for just tokenized texts"
   ]
  },
  {
   "cell_type": "code",
   "execution_count": 70,
   "id": "988989d1-28dd-47ff-b407-9cb421ead8f8",
   "metadata": {},
   "outputs": [],
   "source": [
    "#Extract bag-of-words features for the training set\n",
    "top_words = 1000\n",
    "train_features = [(bag_of_words_features(text, top_words), sentiment) for text, sentiment in zip(train_data['tokenized_text'], train_data['Sentiment'])]"
   ]
  },
  {
   "cell_type": "code",
   "execution_count": 58,
   "id": "b21c6e93-0509-4343-abc2-b761c6393dc9",
   "metadata": {},
   "outputs": [],
   "source": [
    "#Train the Naive-Bayes Classifier\n",
    "from nltk.classify import NaiveBayesClassifier\n",
    "classifier = NaiveBayesClassifier.train(train_features)"
   ]
  },
  {
   "cell_type": "code",
   "execution_count": 59,
   "id": "6694e22d-6aca-4a2f-91f2-9768ad1e386f",
   "metadata": {},
   "outputs": [],
   "source": [
    "#Extract bag-of-words features for the testing set\n",
    "test_features = [(bag_of_words_features(text, top_words), sentiment) for text, sentiment in zip(test_data['tokenized_text'], test_data['Sentiment'])]"
   ]
  },
  {
   "cell_type": "code",
   "execution_count": 61,
   "id": "9404911b-09bf-485c-b41d-5ea479f13369",
   "metadata": {},
   "outputs": [],
   "source": [
    "# Evaluate the classifier using precision, recall, and F1-score\n",
    "from sklearn.metrics import precision_score, recall_score, f1_score\n",
    "predicted_sentiments = [classifier.classify(features) for features, _ in test_features]\n",
    "true_sentiments = [sentiment for _, sentiment in test_features]\n",
    "\n",
    "precision = precision_score(true_sentiments, predicted_sentiments, average='weighted')\n",
    "recall = recall_score(true_sentiments, predicted_sentiments, average='weighted')\n",
    "f1 = f1_score(true_sentiments, predicted_sentiments, average='weighted')"
   ]
  },
  {
   "cell_type": "code",
   "execution_count": 103,
   "id": "bcc3f204-bd22-49c4-9568-d918ee82a627",
   "metadata": {},
   "outputs": [
    {
     "name": "stdout",
     "output_type": "stream",
     "text": [
      "Precision: 45.56%\n",
      "Recall: 14.29%\n",
      "F1-Score: 12.31%\n"
     ]
    }
   ],
   "source": [
    "# Display evaluation metrics\n",
    "print(\"Precision:\", \"{:.2f}%\".format(precision*100))\n",
    "print(\"Recall:\", \"{:.2f}%\".format(recall*100))\n",
    "print(\"F1-Score:\", \"{:.2f}%\".format(f1*100))"
   ]
  },
  {
   "cell_type": "code",
   "execution_count": 63,
   "id": "66202434-f767-4362-81d9-e66a2a594537",
   "metadata": {},
   "outputs": [
    {
     "name": "stdout",
     "output_type": "stream",
     "text": [
      "Confusion Matrix:\n",
      "   |     0     1     2     3     4 |\n",
      "--+-------------------------------+\n",
      "0 |  <793>  153    16   264   898 |\n",
      "1 |  2254  <680>  169  1891  3220 |\n",
      "2 |  3092  2671 <1136>10843  6141 |\n",
      "3 |  2285   655   164 <2642> 4109 |\n",
      "4 |   734   115    25   428 <1440>|\n",
      "--+-------------------------------+\n",
      "(row = reference; col = test)\n",
      "\n"
     ]
    }
   ],
   "source": [
    "# Display confusion matrix\n",
    "from nltk.metrics import ConfusionMatrix\n",
    "conf_matrix = ConfusionMatrix(true_sentiments, predicted_sentiments)\n",
    "print(\"Confusion Matrix:\\n\", conf_matrix)"
   ]
  },
  {
   "cell_type": "markdown",
   "id": "1176b2fc-0e8d-4b48-bcd7-ae1811e8020f",
   "metadata": {},
   "source": [
    "### Generating Model after removing stop words "
   ]
  },
  {
   "cell_type": "code",
   "execution_count": 69,
   "id": "017611f2-3e10-4c0f-9e6d-37bda0cf671b",
   "metadata": {},
   "outputs": [],
   "source": [
    "#Extract bag-of-words features for the training set\n",
    "top_words = 1000\n",
    "train_features_stop = [(bag_of_words_features(text, top_words), sentiment) for text, sentiment in zip(train_data['stop_text'], train_data['Sentiment'])]"
   ]
  },
  {
   "cell_type": "code",
   "execution_count": 71,
   "id": "835df436-18c0-4c6e-a5a9-3dbf4ebc1ced",
   "metadata": {},
   "outputs": [],
   "source": [
    "#Train the Naive-Bayes Classifier\n",
    "classifier_stop = NaiveBayesClassifier.train(train_features_stop)"
   ]
  },
  {
   "cell_type": "code",
   "execution_count": 72,
   "id": "51788457-8f13-4191-9cf3-09ff58ce2d57",
   "metadata": {},
   "outputs": [],
   "source": [
    "#Extract bag-of-words features for the testing set\n",
    "test_features_stop = [(bag_of_words_features(text, top_words), sentiment) for text, sentiment in zip(test_data['stop_text'], test_data['Sentiment'])]"
   ]
  },
  {
   "cell_type": "code",
   "execution_count": 94,
   "id": "e42ab493-70a5-49f9-bc1c-c3b7ee5bca44",
   "metadata": {},
   "outputs": [],
   "source": [
    "# Evaluate the classifier using precision, recall, and F1-score\n",
    "predicted_sentiments_stop = [classifier_stop.classify(features) for features, _ in test_features_stop]\n",
    "true_sentiments_stop = [sentiment for _, sentiment in test_features_stop]\n",
    "\n",
    "precision_stop = precision_score(true_sentiments_stop, predicted_sentiments_stop, average='weighted')\n",
    "recall_stop = recall_score(true_sentiments_stop, predicted_sentiments_stop, average='weighted')\n",
    "f1_stop = f1_score(true_sentiments_stop, predicted_sentiments_stop, average='weighted')"
   ]
  },
  {
   "cell_type": "code",
   "execution_count": 102,
   "id": "9afc71f7-cbc0-4adc-919b-5b19a19f691b",
   "metadata": {},
   "outputs": [
    {
     "name": "stdout",
     "output_type": "stream",
     "text": [
      "Precision: 47.53%\n",
      "Recall: 14.33%\n",
      "F1-Score: 12.96%\n"
     ]
    }
   ],
   "source": [
    "# Display evaluation metrics\n",
    "print(\"Precision:\", \"{:.2f}%\".format(precision_stop*100))\n",
    "print(\"Recall:\", \"{:.2f}%\".format(recall_stop*100))\n",
    "print(\"F1-Score:\", \"{:.2f}%\".format(f1_stop*100))"
   ]
  },
  {
   "cell_type": "code",
   "execution_count": 96,
   "id": "c2cfdb17-722c-49ea-8cfd-3bf999bfe7d1",
   "metadata": {},
   "outputs": [
    {
     "name": "stdout",
     "output_type": "stream",
     "text": [
      "Confusion Matrix:\n",
      "   |    0    1    2    3    4 |\n",
      "--+--------------------------+\n",
      "0 | <296>  87   21  215 1505 |\n",
      "1 |  804 <399> 187 1722 5102 |\n",
      "2 | 1324 1542<1587>9608 9822 |\n",
      "3 |  789  302  187<2268>6309 |\n",
      "4 |  188   43   27  324<2160>|\n",
      "--+--------------------------+\n",
      "(row = reference; col = test)\n",
      "\n"
     ]
    }
   ],
   "source": [
    "# Display confusion matrix\n",
    "conf_matrix_stop = ConfusionMatrix(true_sentiments_stop, predicted_sentiments_stop)\n",
    "print(\"Confusion Matrix:\\n\", conf_matrix_stop)"
   ]
  },
  {
   "cell_type": "markdown",
   "id": "e451a8d2-02fd-44d6-8292-c4e84eba4c55",
   "metadata": {},
   "source": [
    "### Generating Model after Lemmatization"
   ]
  },
  {
   "cell_type": "code",
   "execution_count": 76,
   "id": "feee50b6-fe35-4643-830d-46e49aefd12d",
   "metadata": {},
   "outputs": [],
   "source": [
    "#Extract bag-of-words features for the training set\n",
    "top_words = 1000\n",
    "train_features_lemma = [(bag_of_words_features(text, top_words), sentiment) for text, sentiment in zip(train_data['lemmatized_text'], train_data['Sentiment'])]"
   ]
  },
  {
   "cell_type": "code",
   "execution_count": 77,
   "id": "1c0a6a37-8acf-4f7b-9719-cc22c9c35f9d",
   "metadata": {},
   "outputs": [],
   "source": [
    "#Train the Naive-Bayes Classifier\n",
    "classifier_lemma = NaiveBayesClassifier.train(train_features_lemma)"
   ]
  },
  {
   "cell_type": "code",
   "execution_count": 78,
   "id": "4905a4c7-971a-433e-bb66-7842a844feec",
   "metadata": {},
   "outputs": [],
   "source": [
    "#Extract bag-of-words features for the testing set\n",
    "test_features_lemma = [(bag_of_words_features(text, top_words), sentiment) for text, sentiment in zip(test_data['lemmatized_text'], test_data['Sentiment'])]"
   ]
  },
  {
   "cell_type": "code",
   "execution_count": 97,
   "id": "e36d58c2-fbf9-4b79-85b9-3d9b93204098",
   "metadata": {},
   "outputs": [],
   "source": [
    "# Evaluate the classifier using precision, recall, and F1-score\n",
    "predicted_sentiments_lemma = [classifier_lemma.classify(features) for features, _ in test_features_lemma]\n",
    "true_sentiments_lemma = [sentiment for _, sentiment in test_features_lemma]\n",
    "\n",
    "precision_lemma = precision_score(true_sentiments_lemma, predicted_sentiments_lemma, average='weighted')\n",
    "recall_lemma = recall_score(true_sentiments_lemma, predicted_sentiments_lemma, average='weighted')\n",
    "f1_lemma = f1_score(true_sentiments_lemma, predicted_sentiments_lemma, average='weighted')"
   ]
  },
  {
   "cell_type": "code",
   "execution_count": 101,
   "id": "0e7fb862-5389-4b22-bf16-34b779fa4e87",
   "metadata": {},
   "outputs": [
    {
     "name": "stdout",
     "output_type": "stream",
     "text": [
      "Precision: 51.77%\n",
      "Recall: 13.35%\n",
      "F1-Score: 11.43%\n"
     ]
    }
   ],
   "source": [
    "# Display evaluation metrics\n",
    "print(\"Precision:\", \"{:.2f}%\".format(precision_lemma*100))\n",
    "print(\"Recall:\", \"{:.2f}%\".format(recall_lemma*100))\n",
    "print(\"F1-Score:\", \"{:.2f}%\".format(f1_lemma*100))"
   ]
  },
  {
   "cell_type": "markdown",
   "id": "d3324eaf-3967-492d-bf1f-e0a199aa1900",
   "metadata": {},
   "source": [
    "### Generating Model using LIWC sentiment lexicon features and also unigrams, bigrams and POS tags"
   ]
  },
  {
   "cell_type": "code",
   "execution_count": 81,
   "id": "8b36e0f1-52b2-41b7-b698-7affadcec516",
   "metadata": {},
   "outputs": [],
   "source": [
    "#Import required library\n",
    "from nltk.sentiment import SentimentIntensityAnalyzer\n",
    "from nltk import pos_tag\n",
    "from nltk.corpus import opinion_lexicon"
   ]
  },
  {
   "cell_type": "code",
   "execution_count": 87,
   "id": "7a0402c2-ee2b-462a-8906-cd075a44058c",
   "metadata": {},
   "outputs": [],
   "source": [
    "# Function to count positive and negative words using LIWC lexicon\n",
    "#nltk.download('vader_lexicon')\n",
    "def liwc_sentiment_feature(text):\n",
    "    sia = SentimentIntensityAnalyzer()\n",
    "    sentiment_scores = sia.polarity_scores(text)\n",
    "    return {'pos_words': sentiment_scores['pos'], 'neg_words': sentiment_scores['neg']}"
   ]
  },
  {
   "cell_type": "code",
   "execution_count": 90,
   "id": "30fb4193-978a-442b-b0c2-0464f0990f41",
   "metadata": {},
   "outputs": [],
   "source": [
    "# Function to extract unigram, bigram, and POS tag features\n",
    "#nltk.download('averaged_perceptron_tagger')\n",
    "def combined_features(text):\n",
    "    tokens = word_tokenize(text)\n",
    "    unigrams = bag_of_words_features(tokens, top_words=1000)\n",
    "    bigrams = bag_of_words_features(list(nltk.bigrams(tokens)), top_words=500)\n",
    "    pos_tags = FreqDist([tag for _, tag in pos_tag(tokens)])\n",
    "    \n",
    "    features = {**unigrams, **bigrams, **pos_tags}\n",
    "    return features"
   ]
  },
  {
   "cell_type": "code",
   "execution_count": 84,
   "id": "d8b68112-bdfc-4ac6-83de-0a4b08dad662",
   "metadata": {},
   "outputs": [],
   "source": [
    "# Combine all features and LIWC sentiment feature\n",
    "def all_features(text):\n",
    "    liwc_features = liwc_sentiment_feature(text)\n",
    "    text_features = combined_features(text)\n",
    "    return {**text_features, **liwc_features}"
   ]
  },
  {
   "cell_type": "code",
   "execution_count": 91,
   "id": "5dd88cc1-fe45-4ed1-bd28-cd312d5e0ddc",
   "metadata": {},
   "outputs": [],
   "source": [
    "# Extract features for the training set\n",
    "train_features_all = [(all_features(text), sentiment) for text, sentiment in zip(train_data['stop_text'], train_data['Sentiment'])]"
   ]
  },
  {
   "cell_type": "code",
   "execution_count": 92,
   "id": "4d1a24dc-d17d-4635-bd26-82c9c84792d8",
   "metadata": {},
   "outputs": [],
   "source": [
    "# Train the Naive Bayes classifier\n",
    "classifier_all = NaiveBayesClassifier.train(train_features_all)"
   ]
  },
  {
   "cell_type": "code",
   "execution_count": 93,
   "id": "55584400-dac1-4173-b838-e7c2f4c5a5f9",
   "metadata": {},
   "outputs": [],
   "source": [
    "# Extract features for the testing set\n",
    "test_features_all = [(all_features(text), sentiment) for text, sentiment in zip(test_data['stop_text'], test_data['Sentiment'])]"
   ]
  },
  {
   "cell_type": "code",
   "execution_count": 99,
   "id": "96f09269-c885-497e-81eb-69abf4628b1a",
   "metadata": {},
   "outputs": [],
   "source": [
    "# Evaluate the classifier using precision, recall, and F1-score\n",
    "predicted_sentiments_all = [classifier_all.classify(features) for features, _ in test_features]\n",
    "true_sentiments_all = [sentiment for _, sentiment in test_features_all]\n",
    "\n",
    "precision_all = precision_score(true_sentiments_all, predicted_sentiments_all, average='weighted')\n",
    "recall_all = recall_score(true_sentiments_all, predicted_sentiments_all, average='weighted')\n",
    "f1_all = f1_score(true_sentiments_all, predicted_sentiments_all, average='weighted')"
   ]
  },
  {
   "cell_type": "code",
   "execution_count": 100,
   "id": "19256b2b-0784-4895-aa6b-08f2eedc7f04",
   "metadata": {},
   "outputs": [
    {
     "name": "stdout",
     "output_type": "stream",
     "text": [
      "Precision: 36.44%\n",
      "Recall: 22.05%\n",
      "F1-Score: 24.04%\n"
     ]
    }
   ],
   "source": [
    "# Display formatted metrics\n",
    "print(\"Precision:\", \"{:.2f}%\".format(precision_all * 100))\n",
    "print(\"Recall:\", \"{:.2f}%\".format(recall_all * 100))\n",
    "print(\"F1-Score:\", \"{:.2f}%\".format(f1_all * 100))"
   ]
  }
 ],
 "metadata": {
  "kernelspec": {
   "display_name": "Python 3 (ipykernel)",
   "language": "python",
   "name": "python3"
  },
  "language_info": {
   "codemirror_mode": {
    "name": "ipython",
    "version": 3
   },
   "file_extension": ".py",
   "mimetype": "text/x-python",
   "name": "python",
   "nbconvert_exporter": "python",
   "pygments_lexer": "ipython3",
   "version": "3.12.1"
  }
 },
 "nbformat": 4,
 "nbformat_minor": 5
}
